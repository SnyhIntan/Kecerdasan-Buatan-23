{
  "cells": [
    {
      "cell_type": "markdown",
      "source": [
        "# POSTTEST 2"
      ],
      "metadata": {
        "id": "qMD4qbXmYTu4"
      },
      "id": "qMD4qbXmYTu4"
    },
    {
      "cell_type": "code",
      "execution_count": 4,
      "id": "44e8b98d-be30-4a3c-8c07-c2ecfa994480",
      "metadata": {
        "id": "44e8b98d-be30-4a3c-8c07-c2ecfa994480"
      },
      "outputs": [],
      "source": [
        "import pandas as pd\n",
        "import matplotlib.pyplot as plt\n",
        "import seaborn as sns"
      ]
    },
    {
      "cell_type": "code",
      "execution_count": 5,
      "id": "5e3365a3-a680-4b6e-bab7-1c3e493faf1b",
      "metadata": {
        "id": "5e3365a3-a680-4b6e-bab7-1c3e493faf1b"
      },
      "outputs": [],
      "source": [
        "df = pd.read_csv(\"StudentsPerformance.csv\")"
      ]
    },
    {
      "cell_type": "code",
      "execution_count": 6,
      "id": "90412291-acb0-4900-a4e8-6f9bbc90aec3",
      "metadata": {
        "id": "90412291-acb0-4900-a4e8-6f9bbc90aec3"
      },
      "outputs": [],
      "source": [
        "desc_stats = df.describe().T"
      ]
    },
    {
      "cell_type": "markdown",
      "id": "78804469-fc5c-4e07-b57f-d2f55ba900f2",
      "metadata": {
        "id": "78804469-fc5c-4e07-b57f-d2f55ba900f2"
      },
      "source": [
        "### Statistik Deskriptif Dataset"
      ]
    },
    {
      "cell_type": "code",
      "execution_count": 7,
      "id": "d7bffe04-279d-45a2-a197-75949ff57557",
      "metadata": {
        "colab": {
          "base_uri": "https://localhost:8080/"
        },
        "id": "d7bffe04-279d-45a2-a197-75949ff57557",
        "outputId": "a6d5545f-e0f1-4694-a88d-368141a18376"
      },
      "outputs": [
        {
          "output_type": "stream",
          "name": "stdout",
          "text": [
            "                count    mean        std   min    25%   50%   75%    max\n",
            "math score     1000.0  66.089  15.163080   0.0  57.00  66.0  77.0  100.0\n",
            "reading score  1000.0  69.169  14.600192  17.0  59.00  70.0  79.0  100.0\n",
            "writing score  1000.0  68.054  15.195657  10.0  57.75  69.0  79.0  100.0\n"
          ]
        }
      ],
      "source": [
        "print(desc_stats)"
      ]
    },
    {
      "cell_type": "markdown",
      "id": "d07018cf-559b-4567-b29e-e2d459c3bf66",
      "metadata": {
        "id": "d07018cf-559b-4567-b29e-e2d459c3bf66"
      },
      "source": [
        "### 10 Record Pertama Dataset Numerik"
      ]
    },
    {
      "cell_type": "code",
      "execution_count": 8,
      "id": "fe62248d-64be-4e9f-af25-379da048a043",
      "metadata": {
        "colab": {
          "base_uri": "https://localhost:8080/"
        },
        "id": "fe62248d-64be-4e9f-af25-379da048a043",
        "outputId": "18d64916-c970-41bb-c55a-7ef6bbc10d38"
      },
      "outputs": [
        {
          "output_type": "stream",
          "name": "stdout",
          "text": [
            "   math score  reading score  writing score\n",
            "0          72             72             74\n",
            "1          69             90             88\n",
            "2          90             95             93\n",
            "3          47             57             44\n",
            "4          76             78             75\n",
            "5          71             83             78\n",
            "6          88             95             92\n",
            "7          40             43             39\n",
            "8          64             64             67\n",
            "9          38             60             50\n"
          ]
        }
      ],
      "source": [
        "numeric_df = df.select_dtypes(include='number')\n",
        "print(numeric_df.head(10))"
      ]
    },
    {
      "cell_type": "markdown",
      "id": "070842cb-8548-4aa6-8ec6-9c91417aa8b0",
      "metadata": {
        "id": "070842cb-8548-4aa6-8ec6-9c91417aa8b0"
      },
      "source": [
        "### Info Dataset"
      ]
    },
    {
      "cell_type": "code",
      "execution_count": 9,
      "id": "0db9ba6f-ba97-456c-8701-5657682076d4",
      "metadata": {
        "colab": {
          "base_uri": "https://localhost:8080/"
        },
        "id": "0db9ba6f-ba97-456c-8701-5657682076d4",
        "outputId": "2f2f39fd-26ae-4b13-c918-3fd3683def0a"
      },
      "outputs": [
        {
          "output_type": "stream",
          "name": "stdout",
          "text": [
            "\n",
            "Jumlah record    : 1000\n",
            "Jumlah attribute : 8\n",
            "Nama attribute   : ['gender', 'race/ethnicity', 'parental level of education', 'lunch', 'test preparation course', 'math score', 'reading score', 'writing score']\n",
            "Jumlah attribute numerik: 3\n",
            "\n"
          ]
        }
      ],
      "source": [
        "num_records = df.shape[0]\n",
        "num_attributes = df.shape[1]\n",
        "attribute_names = df.columns.tolist()\n",
        "num_numeric_attributes = numeric_df.shape[1]\n",
        "\n",
        "print(f\"\\nJumlah record    : {num_records}\")\n",
        "print(f\"Jumlah attribute : {num_attributes}\")\n",
        "print(f\"Nama attribute   : {attribute_names}\")\n",
        "print(f\"Jumlah attribute numerik: {num_numeric_attributes}\\n\")"
      ]
    },
    {
      "cell_type": "markdown",
      "id": "b4b50376-11ea-425f-896e-64ff5ae74f56",
      "metadata": {
        "id": "b4b50376-11ea-425f-896e-64ff5ae74f56"
      },
      "source": [
        "### Jumlah Label Atribut Object"
      ]
    },
    {
      "cell_type": "code",
      "execution_count": 10,
      "id": "4f5c1f41-9682-4388-8172-d465fe5b2d7f",
      "metadata": {
        "colab": {
          "base_uri": "https://localhost:8080/"
        },
        "id": "4f5c1f41-9682-4388-8172-d465fe5b2d7f",
        "outputId": "ed41aba9-3130-46cb-e172-583f665f6ef7"
      },
      "outputs": [
        {
          "output_type": "stream",
          "name": "stdout",
          "text": [
            "\n",
            "\n",
            "gender : 2\n",
            "race/ethnicity : 5\n",
            "parental level of education : 6\n",
            "lunch : 2\n",
            "test preparation course : 2\n",
            "\n",
            "\n"
          ]
        }
      ],
      "source": [
        "object_df = df.select_dtypes(include='object')\n",
        "unique_labels = {col: object_df[col].nunique() for col in object_df.columns}\n",
        "\n",
        "print(\"\\n\")\n",
        "for col, val in unique_labels.items():\n",
        "    print(f\"{col} : {val}\")\n",
        "print(\"\\n\")"
      ]
    },
    {
      "cell_type": "markdown",
      "id": "e17ce173-a222-4da6-b6af-558a1d38d37a",
      "metadata": {
        "id": "e17ce173-a222-4da6-b6af-558a1d38d37a"
      },
      "source": [
        "### Visualisasi Grafik Histogram (Math Score)"
      ]
    },
    {
      "cell_type": "code",
      "execution_count": 11,
      "id": "c2aa3d87-7940-4527-a401-1c01b3f263c9",
      "metadata": {
        "colab": {
          "base_uri": "https://localhost:8080/",
          "height": 487
        },
        "id": "c2aa3d87-7940-4527-a401-1c01b3f263c9",
        "outputId": "cebaf543-dafe-42a6-dc03-d102adaeead9"
      },
      "outputs": [
        {
          "output_type": "display_data",
          "data": {
            "text/plain": [
              "<Figure size 800x500 with 1 Axes>"
            ],
            "image/png": "[encoded data removed]"
          },
          "metadata": {}
        }
      ],
      "source": [
        "plt.figure(figsize=(8,5))\n",
        "sns.histplot(df[\"math score\"], bins=20, kde=True)\n",
        "plt.title(\"Distribusi Nilai Matematika\")\n",
        "plt.xlabel(\"Nilai Matematika\")\n",
        "plt.ylabel(\"Frekuensi\")\n",
        "plt.show()"
      ]
    },
    {
      "cell_type": "markdown",
      "id": "556553cc-5658-4379-b5e1-9f06fe6f1460",
      "metadata": {
        "id": "556553cc-5658-4379-b5e1-9f06fe6f1460"
      },
      "source": [
        "##### Dari diagram histogram di atas didapatkan bahwa mayoritas siswa memperoleh nilai di kisaran 50–80. Distribusi nilai matematika cenderung normal, dengan puncak frekuensi berada di sekitar 60–70. Terdapat sebagian kecil siswa yang mendapat nilai sangat rendah (0–20) maupun sangat tinggi (90–100). Hal ini menunjukkan bahwa sebagian besar siswa memiliki kemampuan matematika pada tingkat menengah, sedangkan siswa yang berprestasi sangat tinggi maupun sangat rendah jumlahnya relatif sedikit."
      ]
    },
    {
      "cell_type": "markdown",
      "id": "bf1432ed-888c-4aa5-b00a-cea33588751d",
      "metadata": {
        "id": "bf1432ed-888c-4aa5-b00a-cea33588751d"
      },
      "source": [
        "### Visualisasi Korelasi Dataset (Atribut Numerik)"
      ]
    },
    {
      "cell_type": "code",
      "execution_count": 12,
      "id": "c631c9ce-f1c6-4bfe-9263-ffc0ade27f1b",
      "metadata": {
        "colab": {
          "base_uri": "https://localhost:8080/",
          "height": 545
        },
        "id": "c631c9ce-f1c6-4bfe-9263-ffc0ade27f1b",
        "outputId": "ad4e274e-09e5-4b59-afd0-a6665799da02"
      },
      "outputs": [
        {
          "output_type": "display_data",
          "data": {
            "text/plain": [
              "<Figure size 800x600 with 2 Axes>"
            ],
            "image/png": "[encoded data removed]"
          },
          "metadata": {}
        }
      ],
      "source": [
        "plt.figure(figsize=(8,6))\n",
        "corr = numeric_df.corr()\n",
        "sns.heatmap(corr, annot=True, cmap=\"coolwarm\", center=0)\n",
        "plt.title(\"Heatmap Korelasi Atribut Numerik\")\n",
        "plt.show()"
      ]
    },
    {
      "cell_type": "markdown",
      "id": "fdb79bec-ee12-44d3-b5db-dba6eff657cc",
      "metadata": {
        "id": "fdb79bec-ee12-44d3-b5db-dba6eff657cc"
      },
      "source": [
        "##### Dari heatmap korelasi di atas didapatkan bahwa terdapat hubungan yang sangat kuat antara nilai membaca (reading score) dan menulis (writing score) dengan nilai korelasi mendekati 1.0. Artinya, siswa yang memiliki kemampuan membaca yang baik cenderung memiliki kemampuan menulis yang baik pula. Selain itu, nilai matematika (math score) juga berkorelasi positif dengan nilai membaca dan menulis, meskipun tingkat korelasinya lebih rendah (sekitar 0.6–0.7). Hal ini menunjukkan bahwa meskipun ada hubungan antara kemampuan matematika dan kemampuan bahasa, namun hubungan terkuat tetap terlihat antara membaca dan menulis."
      ]
    },
    {
      "cell_type": "markdown",
      "id": "9d1708d7-fb56-4cf6-8c06-b93c9d9ff94e",
      "metadata": {
        "id": "9d1708d7-fb56-4cf6-8c06-b93c9d9ff94e"
      },
      "source": [
        "## Kesimpulan Analisis Data StudentsPerformance\n",
        "\n",
        "1. **Statistik Deskriptif**\n",
        "   - Rata-rata nilai **Matematika (66.09)**, **Membaca (69.17)**, dan **Menulis (68.05)** menunjukkan bahwa kemampuan siswa berada di level **menengah**.\n",
        "   - Rentang nilai cukup lebar (**0–100**) pada Matematika, artinya ada siswa yang sangat lemah maupun sangat unggul.\n",
        "   - Kuartil (Q1, Q2, Q3) menunjukkan bahwa 50% siswa memiliki nilai:\n",
        "     - Matematika antara **57–77**\n",
        "     - Membaca antara **59–79**\n",
        "     - Menulis antara **58–79**\n",
        "\n",
        "2. **Distribusi Nilai Matematika (Histogram)**\n",
        "   - Dari diagram histogram didapatkan bahwa mayoritas siswa memperoleh nilai **50–80**, dengan puncak frekuensi di sekitar **60–70**.\n",
        "   - Distribusi nilai cenderung **normal**, meskipun terdapat outlier dengan nilai sangat rendah (0–20) dan sangat tinggi (90–100).\n",
        "   - Hal ini menunjukkan bahwa sebagian besar siswa memiliki kemampuan matematika yang rata-rata, hanya sedikit siswa yang sangat rendah/tinggi.\n",
        "\n",
        "3. **Hubungan Antar Nilai (Heatmap Korelasi)**\n",
        "   - Terdapat **korelasi sangat kuat** antara **Reading score** dan **Writing score** (mendekati 1.0).\n",
        "   - Nilai Matematika juga berkorelasi positif dengan Reading dan Writing, tetapi lebih rendah (sekitar **0.6–0.7**).\n",
        "   - Kesimpulannya, kemampuan bahasa (membaca & menulis) saling mendukung dengan sangat erat, sementara kemampuan matematika masih berkaitan tetapi tidak sekuat hubungan antar kemampuan bahasa.\n",
        "\n",
        "4. **Variabel Kategori**\n",
        "   - Dataset memiliki variabel kategori seperti **gender, race/ethnicity, parental education, lunch, dan test preparation**.\n",
        "   - Analisis lebih lanjut (misalnya boxplot) bisa digunakan untuk melihat perbedaan nilai antar kategori tersebut.\n",
        "   - Contohnya, apakah gender berpengaruh pada Math Score, atau apakah program persiapan ujian (test preparation) meningkatkan skor siswa.\n",
        "\n",
        "---\n",
        "\n",
        "### Kesimpulan Utama\n",
        "- Sebagian besar siswa berada di **tingkat menengah** dalam ketiga bidang (Math, Reading, Writing).  \n",
        "- **Kemampuan bahasa** (reading & writing) memiliki hubungan paling erat, sehingga siswa yang kuat membaca hampir pasti kuat menulis.  \n",
        "- **Math Score** memiliki variasi yang besar dan lebih terdistribusi lebar, sehingga cocok dijadikan **variabel target** untuk prediksi/permodelan machine learning.  \n",
        "- Faktor non-akademik (gender, latar belakang orang tua, persiapan ujian) berpotensi memberikan pengaruh terhadap performa siswa dan bisa menjadi fokus analisis lanjutan.  \n"
      ]
    },
    {
      "cell_type": "markdown",
      "source": [
        "# POSTTEST 3"
      ],
      "metadata": {
        "id": "zgGYaf_xYMcl"
      },
      "id": "zgGYaf_xYMcl"
    },
    {
      "cell_type": "code",
      "source": [
        "from sklearn.preprocessing import MinMaxScaler\n",
        "from sklearn.preprocessing import LabelEncoder\n",
        "from sklearn.model_selection import train_test_split"
      ],
      "metadata": {
        "id": "kEm-bPiz6uXl"
      },
      "id": "kEm-bPiz6uXl",
      "execution_count": 35,
      "outputs": []
    },
    {
      "cell_type": "markdown",
      "source": [
        "### Data Cleaning"
      ],
      "metadata": {
        "id": "UEfWbFPhpQfN"
      },
      "id": "UEfWbFPhpQfN"
    },
    {
      "cell_type": "code",
      "execution_count": 13,
      "id": "c4a05d20-5ea3-4b26-b415-d1587ebeeede",
      "metadata": {
        "colab": {
          "base_uri": "https://localhost:8080/"
        },
        "id": "c4a05d20-5ea3-4b26-b415-d1587ebeeede",
        "outputId": "c2cb1207-4e1c-42b7-dcb4-133d134a2bf2"
      },
      "outputs": [
        {
          "output_type": "stream",
          "name": "stdout",
          "text": [
            "<class 'pandas.core.frame.DataFrame'>\n",
            "RangeIndex: 1000 entries, 0 to 999\n",
            "Data columns (total 8 columns):\n",
            " #   Column                       Non-Null Count  Dtype \n",
            "---  ------                       --------------  ----- \n",
            " 0   gender                       1000 non-null   object\n",
            " 1   race/ethnicity               1000 non-null   object\n",
            " 2   parental level of education  1000 non-null   object\n",
            " 3   lunch                        1000 non-null   object\n",
            " 4   test preparation course      1000 non-null   object\n",
            " 5   math score                   1000 non-null   int64 \n",
            " 6   reading score                1000 non-null   int64 \n",
            " 7   writing score                1000 non-null   int64 \n",
            "dtypes: int64(3), object(5)\n",
            "memory usage: 62.6+ KB\n"
          ]
        }
      ],
      "source": [
        "df.info()"
      ]
    },
    {
      "cell_type": "code",
      "source": [
        "df.isnull().sum()"
      ],
      "metadata": {
        "colab": {
          "base_uri": "https://localhost:8080/",
          "height": 398
        },
        "id": "ibqhO7zi7Wre",
        "outputId": "0bfe972a-df13-42c2-e96e-a5bc9b803d0d"
      },
      "id": "ibqhO7zi7Wre",
      "execution_count": 36,
      "outputs": [
        {
          "output_type": "execute_result",
          "data": {
            "text/plain": [
              "gender                         0\n",
              "race/ethnicity                 0\n",
              "parental level of education    0\n",
              "lunch                          0\n",
              "test preparation course        0\n",
              "math score                     0\n",
              "reading score                  0\n",
              "writing score                  0\n",
              "average score                  0\n",
              "math_category                  1\n",
              "dtype: int64"
            ],
            "text/html": [
              "<div>\n",
              "<style scoped>\n",
              "    .dataframe tbody tr th:only-of-type {\n",
              "        vertical-align: middle;\n",
              "    }\n",
              "\n",
              "    .dataframe tbody tr th {\n",
              "        vertical-align: top;\n",
              "    }\n",
              "\n",
              "    .dataframe thead th {\n",
              "        text-align: right;\n",
              "    }\n",
              "</style>\n",
              "<table border=\"1\" class=\"dataframe\">\n",
              "  <thead>\n",
              "    <tr style=\"text-align: right;\">\n",
              "      <th></th>\n",
              "      <th>0</th>\n",
              "    </tr>\n",
              "  </thead>\n",
              "  <tbody>\n",
              "    <tr>\n",
              "      <th>gender</th>\n",
              "      <td>0</td>\n",
              "    </tr>\n",
              "    <tr>\n",
              "      <th>race/ethnicity</th>\n",
              "      <td>0</td>\n",
              "    </tr>\n",
              "    <tr>\n",
              "      <th>parental level of education</th>\n",
              "      <td>0</td>\n",
              "    </tr>\n",
              "    <tr>\n",
              "      <th>lunch</th>\n",
              "      <td>0</td>\n",
              "    </tr>\n",
              "    <tr>\n",
              "      <th>test preparation course</th>\n",
              "      <td>0</td>\n",
              "    </tr>\n",
              "    <tr>\n",
              "      <th>math score</th>\n",
              "      <td>0</td>\n",
              "    </tr>\n",
              "    <tr>\n",
              "      <th>reading score</th>\n",
              "      <td>0</td>\n",
              "    </tr>\n",
              "    <tr>\n",
              "      <th>writing score</th>\n",
              "      <td>0</td>\n",
              "    </tr>\n",
              "    <tr>\n",
              "      <th>average score</th>\n",
              "      <td>0</td>\n",
              "    </tr>\n",
              "    <tr>\n",
              "      <th>math_category</th>\n",
              "      <td>1</td>\n",
              "    </tr>\n",
              "  </tbody>\n",
              "</table>\n",
              "</div><br><label><b>dtype:</b> int64</label>"
            ]
          },
          "metadata": {},
          "execution_count": 36
        }
      ]
    },
    {
      "cell_type": "code",
      "source": [
        "print(\"Jumlah duplikat :\", df.duplicated().sum())"
      ],
      "metadata": {
        "colab": {
          "base_uri": "https://localhost:8080/"
        },
        "id": "ujAuKyDJVe90",
        "outputId": "d0247cf0-c2a3-4c42-d734-0a56419facc3"
      },
      "id": "ujAuKyDJVe90",
      "execution_count": 14,
      "outputs": [
        {
          "output_type": "stream",
          "name": "stdout",
          "text": [
            "Jumlah duplikat : 0\n"
          ]
        }
      ]
    },
    {
      "cell_type": "code",
      "source": [
        "outlier_mask = (df[\"math score\"] < 0) | (df[\"math score\"] > 100) | \\\n",
        "               (df[\"reading score\"] < 0) | (df[\"reading score\"] > 100) | \\\n",
        "               (df[\"writing score\"] < 0) | (df[\"writing score\"] > 100)\n",
        "\n",
        "print(\"Jumlah outlier berdasarkan rentang 0–100:\", outlier_mask.sum())"
      ],
      "metadata": {
        "colab": {
          "base_uri": "https://localhost:8080/"
        },
        "id": "PRlvA-6LhGVM",
        "outputId": "874dc7d9-5e79-402d-c1f8-d9c5f0a29d59"
      },
      "id": "PRlvA-6LhGVM",
      "execution_count": 15,
      "outputs": [
        {
          "output_type": "stream",
          "name": "stdout",
          "text": [
            "Jumlah outlier berdasarkan rentang 0–100: 0\n"
          ]
        }
      ]
    },
    {
      "cell_type": "markdown",
      "source": [
        "#####\n",
        "1. Berdasarkan hasil df.info(), tidak terdapat missing value pada dataset.\n",
        "2. Duplikat data diperiksa menggunakan df.duplicated(), namun tidak ada duplikat pada dataset ini.\n",
        "3. Karena atribut numerik dalam dataset ini berupa **nilai ujian siswa**, maka secara logis nilai yang valid hanya berada pada rentang **0 sampai 100**.\n",
        "4. Outlier didefinisikan sebagai nilai yang **kurang dari 0** atau **lebih dari 100**.\n",
        "\n",
        "\n"
      ],
      "metadata": {
        "id": "-S38461UYwsV"
      },
      "id": "-S38461UYwsV"
    },
    {
      "cell_type": "markdown",
      "source": [
        "### Normalisasi/standarisasi kolom numerik"
      ],
      "metadata": {
        "id": "dtoKPThSo63S"
      },
      "id": "dtoKPThSo63S"
    },
    {
      "cell_type": "code",
      "source": [
        "df['math score'].unique()"
      ],
      "metadata": {
        "id": "8rIVa_1dXG2R",
        "colab": {
          "base_uri": "https://localhost:8080/"
        },
        "outputId": "01deca0b-3980-433f-bb9a-3b133385e64a"
      },
      "id": "8rIVa_1dXG2R",
      "execution_count": 16,
      "outputs": [
        {
          "output_type": "execute_result",
          "data": {
            "text/plain": [
              "array([ 72,  69,  90,  47,  76,  71,  88,  40,  64,  38,  58,  65,  78,\n",
              "        50,  18,  46,  54,  66,  44,  74,  73,  67,  70,  62,  63,  56,\n",
              "        97,  81,  75,  57,  55,  53,  59,  82,  77,  33,  52,   0,  79,\n",
              "        39,  45,  60,  61,  41,  49,  30,  80,  42,  27,  43,  68,  85,\n",
              "        98,  87,  51,  99,  84,  91,  83,  89,  22, 100,  96,  94,  48,\n",
              "        35,  34,  86,  92,  37,  28,  24,  26,  95,  36,  29,  32,  93,\n",
              "        19,  23,   8])"
            ]
          },
          "metadata": {},
          "execution_count": 16
        }
      ]
    },
    {
      "cell_type": "code",
      "source": [
        "scaler = MinMaxScaler()\n",
        "df[['math score', 'reading score', 'writing score']] = scaler.fit_transform(\n",
        "    df[['math score', 'reading score', 'writing score']]\n",
        ")"
      ],
      "metadata": {
        "id": "Eh3RSHG_i5C_"
      },
      "id": "Eh3RSHG_i5C_",
      "execution_count": 18,
      "outputs": []
    },
    {
      "cell_type": "code",
      "source": [
        "print(\"Nilai setelah normalisasi\\n\")\n",
        "df['math score'].unique()"
      ],
      "metadata": {
        "colab": {
          "base_uri": "https://localhost:8080/"
        },
        "id": "xzFH-T4FsplJ",
        "outputId": "0954ab11-d5b8-40b1-cdd3-7f2253485652"
      },
      "id": "xzFH-T4FsplJ",
      "execution_count": 25,
      "outputs": [
        {
          "output_type": "stream",
          "name": "stdout",
          "text": [
            "Nilai setelah normalisasi\n",
            "\n"
          ]
        },
        {
          "output_type": "execute_result",
          "data": {
            "text/plain": [
              "array([0.72, 0.69, 0.9 , 0.47, 0.76, 0.71, 0.88, 0.4 , 0.64, 0.38, 0.58,\n",
              "       0.65, 0.78, 0.5 , 0.18, 0.46, 0.54, 0.66, 0.44, 0.74, 0.73, 0.67,\n",
              "       0.7 , 0.62, 0.63, 0.56, 0.97, 0.81, 0.75, 0.57, 0.55, 0.53, 0.59,\n",
              "       0.82, 0.77, 0.33, 0.52, 0.  , 0.79, 0.39, 0.45, 0.6 , 0.61, 0.41,\n",
              "       0.49, 0.3 , 0.8 , 0.42, 0.27, 0.43, 0.68, 0.85, 0.98, 0.87, 0.51,\n",
              "       0.99, 0.84, 0.91, 0.83, 0.89, 0.22, 1.  , 0.96, 0.94, 0.48, 0.35,\n",
              "       0.34, 0.86, 0.92, 0.37, 0.28, 0.24, 0.26, 0.95, 0.36, 0.29, 0.32,\n",
              "       0.93, 0.19, 0.23, 0.08])"
            ]
          },
          "metadata": {},
          "execution_count": 25
        }
      ]
    },
    {
      "cell_type": "markdown",
      "source": [
        "##### Normalisasi dilakukan menggunakan MinMaxScaler agar seluruh skor berada pada rentang [0,1]. Tujuannya agar setiap fitur numerik memiliki skala yang seimbang, sehingga tidak mendominasi fitur lain saat dilakukan pemodelan machine learning."
      ],
      "metadata": {
        "id": "tpDJx8RmvBMg"
      },
      "id": "tpDJx8RmvBMg"
    },
    {
      "cell_type": "markdown",
      "source": [
        "### Encoding Kolom Kategorikal"
      ],
      "metadata": {
        "id": "ywMMuJ-0v9X6"
      },
      "id": "ywMMuJ-0v9X6"
    },
    {
      "cell_type": "code",
      "source": [
        "le = LabelEncoder()\n",
        "for col in ['gender', 'race/ethnicity', 'parental level of education', 'lunch', 'test preparation course']:\n",
        "    df[col] = le.fit_transform(df[col])\n"
      ],
      "metadata": {
        "id": "z-3suYV6lH1h"
      },
      "id": "z-3suYV6lH1h",
      "execution_count": 26,
      "outputs": []
    },
    {
      "cell_type": "code",
      "source": [
        "df.head()"
      ],
      "metadata": {
        "colab": {
          "base_uri": "https://localhost:8080/",
          "height": 206
        },
        "id": "KVlHThnCw6-7",
        "outputId": "2106f2c6-84df-4d85-afcf-db17cb9bca25"
      },
      "id": "KVlHThnCw6-7",
      "execution_count": 27,
      "outputs": [
        {
          "output_type": "execute_result",
          "data": {
            "text/plain": [
              "   gender  race/ethnicity  parental level of education  lunch  \\\n",
              "0       0               1                            1      1   \n",
              "1       0               2                            4      1   \n",
              "2       0               1                            3      1   \n",
              "3       1               0                            0      0   \n",
              "4       1               2                            4      1   \n",
              "\n",
              "   test preparation course  math score  reading score  writing score  \\\n",
              "0                        1        0.72       0.662651       0.711111   \n",
              "1                        0        0.69       0.879518       0.866667   \n",
              "2                        1        0.90       0.939759       0.922222   \n",
              "3                        1        0.47       0.481928       0.377778   \n",
              "4                        1        0.76       0.734940       0.722222   \n",
              "\n",
              "   average score  \n",
              "0       0.697921  \n",
              "1       0.812062  \n",
              "2       0.920660  \n",
              "3       0.443235  \n",
              "4       0.739054  "
            ],
            "text/html": [
              "\n",
              "  <div id=\"df-ece6d83a-cee9-4d2e-870a-f50a7c6f11c5\" class=\"colab-df-container\">\n",
              "    <div>\n",
              "<style scoped>\n",
              "    .dataframe tbody tr th:only-of-type {\n",
              "        vertical-align: middle;\n",
              "    }\n",
              "\n",
              "    .dataframe tbody tr th {\n",
              "        vertical-align: top;\n",
              "    }\n",
              "\n",
              "    .dataframe thead th {\n",
              "        text-align: right;\n",
              "    }\n",
              "</style>\n",
              "<table border=\"1\" class=\"dataframe\">\n",
              "  <thead>\n",
              "    <tr style=\"text-align: right;\">\n",
              "      <th></th>\n",
              "      <th>gender</th>\n",
              "      <th>race/ethnicity</th>\n",
              "      <th>parental level of education</th>\n",
              "      <th>lunch</th>\n",
              "      <th>test preparation course</th>\n",
              "      <th>math score</th>\n",
              "      <th>reading score</th>\n",
              "      <th>writing score</th>\n",
              "      <th>average score</th>\n",
              "    </tr>\n",
              "  </thead>\n",
              "  <tbody>\n",
              "    <tr>\n",
              "      <th>0</th>\n",
              "      <td>0</td>\n",
              "      <td>1</td>\n",
              "      <td>1</td>\n",
              "      <td>1</td>\n",
              "      <td>1</td>\n",
              "      <td>0.72</td>\n",
              "      <td>0.662651</td>\n",
              "      <td>0.711111</td>\n",
              "      <td>0.697921</td>\n",
              "    </tr>\n",
              "    <tr>\n",
              "      <th>1</th>\n",
              "      <td>0</td>\n",
              "      <td>2</td>\n",
              "      <td>4</td>\n",
              "      <td>1</td>\n",
              "      <td>0</td>\n",
              "      <td>0.69</td>\n",
              "      <td>0.879518</td>\n",
              "      <td>0.866667</td>\n",
              "      <td>0.812062</td>\n",
              "    </tr>\n",
              "    <tr>\n",
              "      <th>2</th>\n",
              "      <td>0</td>\n",
              "      <td>1</td>\n",
              "      <td>3</td>\n",
              "      <td>1</td>\n",
              "      <td>1</td>\n",
              "      <td>0.90</td>\n",
              "      <td>0.939759</td>\n",
              "      <td>0.922222</td>\n",
              "      <td>0.920660</td>\n",
              "    </tr>\n",
              "    <tr>\n",
              "      <th>3</th>\n",
              "      <td>1</td>\n",
              "      <td>0</td>\n",
              "      <td>0</td>\n",
              "      <td>0</td>\n",
              "      <td>1</td>\n",
              "      <td>0.47</td>\n",
              "      <td>0.481928</td>\n",
              "      <td>0.377778</td>\n",
              "      <td>0.443235</td>\n",
              "    </tr>\n",
              "    <tr>\n",
              "      <th>4</th>\n",
              "      <td>1</td>\n",
              "      <td>2</td>\n",
              "      <td>4</td>\n",
              "      <td>1</td>\n",
              "      <td>1</td>\n",
              "      <td>0.76</td>\n",
              "      <td>0.734940</td>\n",
              "      <td>0.722222</td>\n",
              "      <td>0.739054</td>\n",
              "    </tr>\n",
              "  </tbody>\n",
              "</table>\n",
              "</div>\n",
              "    <div class=\"colab-df-buttons\">\n",
              "\n",
              "  <div class=\"colab-df-container\">\n",
              "    <button class=\"colab-df-convert\" onclick=\"convertToInteractive('df-ece6d83a-cee9-4d2e-870a-f50a7c6f11c5')\"\n",
              "            title=\"Convert this dataframe to an interactive table.\"\n",
              "            style=\"display:none;\">\n",
              "\n",
              "  <svg xmlns=\"http://www.w3.org/2000/svg\" height=\"24px\" viewBox=\"0 -960 960 960\">\n",
              "    <path d=\"M120-120v-720h720v720H120Zm60-500h600v-160H180v160Zm220 220h160v-160H400v160Zm0 220h160v-160H400v160ZM180-400h160v-160H180v160Zm440 0h160v-160H620v160ZM180-180h160v-160H180v160Zm440 0h160v-160H620v160Z\"/>\n",
              "  </svg>\n",
              "    </button>\n",
              "\n",
              "  <style>\n",
              "    .colab-df-container {\n",
              "      display:flex;\n",
              "      gap: 12px;\n",
              "    }\n",
              "\n",
              "    .colab-df-convert {\n",
              "      background-color: #E8F0FE;\n",
              "      border: none;\n",
              "      border-radius: 50%;\n",
              "      cursor: pointer;\n",
              "      display: none;\n",
              "      fill: #1967D2;\n",
              "      height: 32px;\n",
              "      padding: 0 0 0 0;\n",
              "      width: 32px;\n",
              "    }\n",
              "\n",
              "    .colab-df-convert:hover {\n",
              "      background-color: #E2EBFA;\n",
              "      box-shadow: 0px 1px 2px rgba(60, 64, 67, 0.3), 0px 1px 3px 1px rgba(60, 64, 67, 0.15);\n",
              "      fill: #174EA6;\n",
              "    }\n",
              "\n",
              "    .colab-df-buttons div {\n",
              "      margin-bottom: 4px;\n",
              "    }\n",
              "\n",
              "    [theme=dark] .colab-df-convert {\n",
              "      background-color: #3B4455;\n",
              "      fill: #D2E3FC;\n",
              "    }\n",
              "\n",
              "    [theme=dark] .colab-df-convert:hover {\n",
              "      background-color: #434B5C;\n",
              "      box-shadow: 0px 1px 3px 1px rgba(0, 0, 0, 0.15);\n",
              "      filter: drop-shadow(0px 1px 2px rgba(0, 0, 0, 0.3));\n",
              "      fill: #FFFFFF;\n",
              "    }\n",
              "  </style>\n",
              "\n",
              "    <script>\n",
              "      const buttonEl =\n",
              "        document.querySelector('#df-ece6d83a-cee9-4d2e-870a-f50a7c6f11c5 button.colab-df-convert');\n",
              "      buttonEl.style.display =\n",
              "        google.colab.kernel.accessAllowed ? 'block' : 'none';\n",
              "\n",
              "      async function convertToInteractive(key) {\n",
              "        const element = document.querySelector('#df-ece6d83a-cee9-4d2e-870a-f50a7c6f11c5');\n",
              "        const dataTable =\n",
              "          await google.colab.kernel.invokeFunction('convertToInteractive',\n",
              "                                                    [key], {});\n",
              "        if (!dataTable) return;\n",
              "\n",
              "        const docLinkHtml = 'Like what you see? Visit the ' +\n",
              "          '<a target=\"_blank\" href=https://colab.research.google.com/notebooks/data_table.ipynb>data table notebook</a>'\n",
              "          + ' to learn more about interactive tables.';\n",
              "        element.innerHTML = '';\n",
              "        dataTable['output_type'] = 'display_data';\n",
              "        await google.colab.output.renderOutput(dataTable, element);\n",
              "        const docLink = document.createElement('div');\n",
              "        docLink.innerHTML = docLinkHtml;\n",
              "        element.appendChild(docLink);\n",
              "      }\n",
              "    </script>\n",
              "  </div>\n",
              "\n",
              "\n",
              "    <div id=\"df-e920ccf7-85cd-42ea-adb3-139ef056b024\">\n",
              "      <button class=\"colab-df-quickchart\" onclick=\"quickchart('df-e920ccf7-85cd-42ea-adb3-139ef056b024')\"\n",
              "                title=\"Suggest charts\"\n",
              "                style=\"display:none;\">\n",
              "\n",
              "<svg xmlns=\"http://www.w3.org/2000/svg\" height=\"24px\"viewBox=\"0 0 24 24\"\n",
              "     width=\"24px\">\n",
              "    <g>\n",
              "        <path d=\"M19 3H5c-1.1 0-2 .9-2 2v14c0 1.1.9 2 2 2h14c1.1 0 2-.9 2-2V5c0-1.1-.9-2-2-2zM9 17H7v-7h2v7zm4 0h-2V7h2v10zm4 0h-2v-4h2v4z\"/>\n",
              "    </g>\n",
              "</svg>\n",
              "      </button>\n",
              "\n",
              "<style>\n",
              "  .colab-df-quickchart {\n",
              "      --bg-color: #E8F0FE;\n",
              "      --fill-color: #1967D2;\n",
              "      --hover-bg-color: #E2EBFA;\n",
              "      --hover-fill-color: #174EA6;\n",
              "      --disabled-fill-color: #AAA;\n",
              "      --disabled-bg-color: #DDD;\n",
              "  }\n",
              "\n",
              "  [theme=dark] .colab-df-quickchart {\n",
              "      --bg-color: #3B4455;\n",
              "      --fill-color: #D2E3FC;\n",
              "      --hover-bg-color: #434B5C;\n",
              "      --hover-fill-color: #FFFFFF;\n",
              "      --disabled-bg-color: #3B4455;\n",
              "      --disabled-fill-color: #666;\n",
              "  }\n",
              "\n",
              "  .colab-df-quickchart {\n",
              "    background-color: var(--bg-color);\n",
              "    border: none;\n",
              "    border-radius: 50%;\n",
              "    cursor: pointer;\n",
              "    display: none;\n",
              "    fill: var(--fill-color);\n",
              "    height: 32px;\n",
              "    padding: 0;\n",
              "    width: 32px;\n",
              "  }\n",
              "\n",
              "  .colab-df-quickchart:hover {\n",
              "    background-color: var(--hover-bg-color);\n",
              "    box-shadow: 0 1px 2px rgba(60, 64, 67, 0.3), 0 1px 3px 1px rgba(60, 64, 67, 0.15);\n",
              "    fill: var(--button-hover-fill-color);\n",
              "  }\n",
              "\n",
              "  .colab-df-quickchart-complete:disabled,\n",
              "  .colab-df-quickchart-complete:disabled:hover {\n",
              "    background-color: var(--disabled-bg-color);\n",
              "    fill: var(--disabled-fill-color);\n",
              "    box-shadow: none;\n",
              "  }\n",
              "\n",
              "  .colab-df-spinner {\n",
              "    border: 2px solid var(--fill-color);\n",
              "    border-color: transparent;\n",
              "    border-bottom-color: var(--fill-color);\n",
              "    animation:\n",
              "      spin 1s steps(1) infinite;\n",
              "  }\n",
              "\n",
              "  @keyframes spin {\n",
              "    0% {\n",
              "      border-color: transparent;\n",
              "      border-bottom-color: var(--fill-color);\n",
              "      border-left-color: var(--fill-color);\n",
              "    }\n",
              "    20% {\n",
              "      border-color: transparent;\n",
              "      border-left-color: var(--fill-color);\n",
              "      border-top-color: var(--fill-color);\n",
              "    }\n",
              "    30% {\n",
              "      border-color: transparent;\n",
              "      border-left-color: var(--fill-color);\n",
              "      border-top-color: var(--fill-color);\n",
              "      border-right-color: var(--fill-color);\n",
              "    }\n",
              "    40% {\n",
              "      border-color: transparent;\n",
              "      border-right-color: var(--fill-color);\n",
              "      border-top-color: var(--fill-color);\n",
              "    }\n",
              "    60% {\n",
              "      border-color: transparent;\n",
              "      border-right-color: var(--fill-color);\n",
              "    }\n",
              "    80% {\n",
              "      border-color: transparent;\n",
              "      border-right-color: var(--fill-color);\n",
              "      border-bottom-color: var(--fill-color);\n",
              "    }\n",
              "    90% {\n",
              "      border-color: transparent;\n",
              "      border-bottom-color: var(--fill-color);\n",
              "    }\n",
              "  }\n",
              "</style>\n",
              "\n",
              "      <script>\n",
              "        async function quickchart(key) {\n",
              "          const quickchartButtonEl =\n",
              "            document.querySelector('#' + key + ' button');\n",
              "          quickchartButtonEl.disabled = true;  // To prevent multiple clicks.\n",
              "          quickchartButtonEl.classList.add('colab-df-spinner');\n",
              "          try {\n",
              "            const charts = await google.colab.kernel.invokeFunction(\n",
              "                'suggestCharts', [key], {});\n",
              "          } catch (error) {\n",
              "            console.error('Error during call to suggestCharts:', error);\n",
              "          }\n",
              "          quickchartButtonEl.classList.remove('colab-df-spinner');\n",
              "          quickchartButtonEl.classList.add('colab-df-quickchart-complete');\n",
              "        }\n",
              "        (() => {\n",
              "          let quickchartButtonEl =\n",
              "            document.querySelector('#df-e920ccf7-85cd-42ea-adb3-139ef056b024 button');\n",
              "          quickchartButtonEl.style.display =\n",
              "            google.colab.kernel.accessAllowed ? 'block' : 'none';\n",
              "        })();\n",
              "      </script>\n",
              "    </div>\n",
              "\n",
              "    </div>\n",
              "  </div>\n"
            ],
            "application/vnd.google.colaboratory.intrinsic+json": {
              "type": "dataframe",
              "variable_name": "df",
              "summary": "{\n  \"name\": \"df\",\n  \"rows\": 1000,\n  \"fields\": [\n    {\n      \"column\": \"gender\",\n      \"properties\": {\n        \"dtype\": \"number\",\n        \"std\": 0,\n        \"min\": 0,\n        \"max\": 1,\n        \"num_unique_values\": 2,\n        \"samples\": [\n          1,\n          0\n        ],\n        \"semantic_type\": \"\",\n        \"description\": \"\"\n      }\n    },\n    {\n      \"column\": \"race/ethnicity\",\n      \"properties\": {\n        \"dtype\": \"number\",\n        \"std\": 1,\n        \"min\": 0,\n        \"max\": 4,\n        \"num_unique_values\": 5,\n        \"samples\": [\n          2,\n          4\n        ],\n        \"semantic_type\": \"\",\n        \"description\": \"\"\n      }\n    },\n    {\n      \"column\": \"parental level of education\",\n      \"properties\": {\n        \"dtype\": \"number\",\n        \"std\": 1,\n        \"min\": 0,\n        \"max\": 5,\n        \"num_unique_values\": 6,\n        \"samples\": [\n          1,\n          4\n        ],\n        \"semantic_type\": \"\",\n        \"description\": \"\"\n      }\n    },\n    {\n      \"column\": \"lunch\",\n      \"properties\": {\n        \"dtype\": \"number\",\n        \"std\": 0,\n        \"min\": 0,\n        \"max\": 1,\n        \"num_unique_values\": 2,\n        \"samples\": [\n          0,\n          1\n        ],\n        \"semantic_type\": \"\",\n        \"description\": \"\"\n      }\n    },\n    {\n      \"column\": \"test preparation course\",\n      \"properties\": {\n        \"dtype\": \"number\",\n        \"std\": 0,\n        \"min\": 0,\n        \"max\": 1,\n        \"num_unique_values\": 2,\n        \"samples\": [\n          0,\n          1\n        ],\n        \"semantic_type\": \"\",\n        \"description\": \"\"\n      }\n    },\n    {\n      \"column\": \"math score\",\n      \"properties\": {\n        \"dtype\": \"number\",\n        \"std\": 0.15163080096009438,\n        \"min\": 0.0,\n        \"max\": 1.0,\n        \"num_unique_values\": 81,\n        \"samples\": [\n          0.55,\n          0.72\n        ],\n        \"semantic_type\": \"\",\n        \"description\": \"\"\n      }\n    },\n    {\n      \"column\": \"reading score\",\n      \"properties\": {\n        \"dtype\": \"number\",\n        \"std\": 0.17590592695484608,\n        \"min\": 0.0,\n        \"max\": 1.0,\n        \"num_unique_values\": 72,\n        \"samples\": [\n          0.7349397590361446,\n          0.07228915662650601\n        ],\n        \"semantic_type\": \"\",\n        \"description\": \"\"\n      }\n    },\n    {\n      \"column\": \"writing score\",\n      \"properties\": {\n        \"dtype\": \"number\",\n        \"std\": 0.16884063345410744,\n        \"min\": 0.0,\n        \"max\": 1.0,\n        \"num_unique_values\": 77,\n        \"samples\": [\n          0.7222222222222222,\n          0.7333333333333333\n        ],\n        \"semantic_type\": \"\",\n        \"description\": \"\"\n      }\n    },\n    {\n      \"column\": \"average score\",\n      \"properties\": {\n        \"dtype\": \"number\",\n        \"std\": 0.15771176317245797,\n        \"min\": 0.0,\n        \"max\": 1.0,\n        \"num_unique_values\": 969,\n        \"samples\": [\n          0.6980589022757697,\n          0.4310486390004462\n        ],\n        \"semantic_type\": \"\",\n        \"description\": \"\"\n      }\n    }\n  ]\n}"
            }
          },
          "metadata": {},
          "execution_count": 27
        }
      ]
    },
    {
      "cell_type": "markdown",
      "source": [
        "##### Kolom kategorikal diubah menjadi bentuk numerik menggunakan LabelEncoder agar model machine learning dapat memprosesnya. Setiap kategori diberi representasi angka unik tanpa mengubah makna kategorinya."
      ],
      "metadata": {
        "id": "ADtOlp0yvpJs"
      },
      "id": "ADtOlp0yvpJs"
    },
    {
      "cell_type": "markdown",
      "source": [
        "### Feature Engineering"
      ],
      "metadata": {
        "id": "I819IhOA6Qas"
      },
      "id": "I819IhOA6Qas"
    },
    {
      "cell_type": "code",
      "source": [
        "df['average score'] = df[['math score', 'reading score', 'writing score']].mean(axis=1)"
      ],
      "metadata": {
        "id": "FdMFX4l-lUb0"
      },
      "id": "FdMFX4l-lUb0",
      "execution_count": 20,
      "outputs": []
    },
    {
      "cell_type": "markdown",
      "source": [
        "##### Membuat fitur baru bernama average score yang merepresentasikan rata-rata dari tiga skor ujian. Fitur ini dapat membantu model memahami kinerja keseluruhan siswa secara lebih komprehensif."
      ],
      "metadata": {
        "id": "HolCM-FE6f4X"
      },
      "id": "HolCM-FE6f4X"
    },
    {
      "cell_type": "markdown",
      "source": [
        "### Splitting Data (Train-Test Split)"
      ],
      "metadata": {
        "id": "NS-5pOYq_bJd"
      },
      "id": "NS-5pOYq_bJd"
    },
    {
      "cell_type": "code",
      "source": [
        "X = df.drop(columns=['average score'])\n",
        "y = df['average score']\n",
        "\n",
        "X_train, X_test, y_train, y_test = train_test_split(X, y, test_size=0.2, random_state=42)\n"
      ],
      "metadata": {
        "id": "L3e9BdBBlZ34"
      },
      "id": "L3e9BdBBlZ34",
      "execution_count": 21,
      "outputs": []
    },
    {
      "cell_type": "markdown",
      "source": [
        "##### Dataset dibagi menjadi data latih (80%) dan data uji (20%) untuk menguji kemampuan generalisasi model. Pembagian dilakukan secara acak namun tetap konsisten dengan random_state = 42."
      ],
      "metadata": {
        "id": "A_8oy0XA7nAc"
      },
      "id": "A_8oy0XA7nAc"
    },
    {
      "cell_type": "code",
      "source": [
        "print(\"Jumlah data training :\", X_train.shape[0])\n",
        "print(\"Jumlah data testing  :\", X_test.shape[0])"
      ],
      "metadata": {
        "colab": {
          "base_uri": "https://localhost:8080/"
        },
        "id": "SiKMI-gVldOd",
        "outputId": "c77dac0a-e882-43ba-d98b-86bfaf863e5f"
      },
      "id": "SiKMI-gVldOd",
      "execution_count": 22,
      "outputs": [
        {
          "output_type": "stream",
          "name": "stdout",
          "text": [
            "Jumlah data training : 800\n",
            "Jumlah data testing  : 200\n"
          ]
        }
      ]
    },
    {
      "cell_type": "markdown",
      "source": [
        "##### Tahap ini bertujuan untuk memisahkan dataset menjadi dua bagian, yaitu:\n",
        "\n",
        "- **Data Training (80%)** → digunakan untuk melatih model\n",
        "- **Data Testing (20%)** → digunakan untuk menguji performa model pada data baru\n",
        "\n",
        "##### Proses ini menggunakan fungsi train_test_split() dari library sklearn.model_selection dengan parameter:\n",
        "- test_size=0.2 artinya 20% data dijadikan data uji\n",
        "- random_state=42 agar pembagian data bersifat konsisten (reproducible)\n",
        "\n",
        "##### Dengan cara ini, kita bisa memastikan bahwa model tidak hanya menghafal data latih, tetapi juga mampu **menggeneralisasi** saat diberikan data baru.\n"
      ],
      "metadata": {
        "id": "LpUL22w97ufi"
      },
      "id": "LpUL22w97ufi"
    },
    {
      "cell_type": "markdown",
      "source": [
        "# **Kesimpulan Keseluruhan**\n",
        "\n",
        "### 1. Analisis Awal Data\n",
        "- Dataset berisi **1000 data siswa** dengan **8 atribut**.\n",
        "- Tidak ditemukan **missing value** dan **data duplikat**.\n",
        "- Atribut numerik terdiri dari math score, reading score, dan writing score dengan nilai berkisar antara **0 hingga 100**.\n",
        "- Atribut kategorikal meliputi: gender, race/ethnicity, parental level of education, lunch, dan test preparation course.\n",
        "\n",
        "---\n",
        "\n",
        "### 2. Data Cleaning\n",
        "- Tidak ada data yang hilang atau duplikat.\n",
        "- Pengecekan outlier menunjukkan semua skor masih berada dalam batas wajar (0–100).\n",
        "- Pengecekan outlier menunjukkan semua skor masih berada dalam batas wajar (0–100).\n",
        "\n",
        "---\n",
        "\n",
        "### 3. Normalisasi & Encoding\n",
        "- Kolom numerik (math score, reading score, writing score) telah dinormalisasi menggunakan **MinMaxScaler**, sehingga nilainya berada dalam rentang [0,1].\n",
        "- Kolom kategorikal (gender, race/ethnicity, parental level of education, lunch, test preparation course) telah diubah menjadi numerik menggunakan **LabelEncoder**, agar dapat digunakan dalam model machine learning.\n",
        "\n",
        "---\n",
        "\n",
        "### 4. Feature Engineering\n",
        "- Dibuat fitur baru bernama **average score** yang merupakan rata-rata dari ketiga skor (math, reading, writing).\n",
        "- Fitur ini memberikan gambaran umum performa akademik setiap siswa secara keseluruhan.\n",
        "\n",
        "---\n",
        "\n",
        "### 5. Splitting Data\n",
        "- Dataset dibagi menjadi:\n",
        "  - **80% data training** (untuk melatih model)\n",
        "  - **20% data testing** (untuk evaluasi model)\n",
        "- Pembagian menggunakan train_test_split() dengan random_state=42 agar hasilnya konsisten.\n",
        "\n",
        "---\n",
        "Secara keseluruhan, dataset telah melalui proses **analisis dan preprocessing** meliputi:\n",
        "1. Pemeriksaan dan pembersihan data (cleaning)\n",
        "2. Transformasi numerik dan kategorikal (normalisasi & encoding)\n",
        "3. Pembuatan fitur baru yang relevan (feature engineering)\n",
        "4. Pembagian data untuk keperluan modeling (train-test split)\n",
        "\n"
      ],
      "metadata": {
        "id": "-vSqtZus9KPN"
      },
      "id": "-vSqtZus9KPN"
    },
    {
      "cell_type": "code",
      "source": [],
      "metadata": {
        "id": "qX_zm_uU1gen"
      },
      "id": "qX_zm_uU1gen",
      "execution_count": null,
      "outputs": []
    }
  ],
  "metadata": {
    "kernelspec": {
      "display_name": "Saniyyah_004",
      "language": "python",
      "name": "saniyyah_004"
    },
    "language_info": {
      "codemirror_mode": {
        "name": "ipython",
        "version": 3
      },
      "file_extension": ".py",
      "mimetype": "text/x-python",
      "name": "python",
      "nbconvert_exporter": "python",
      "pygments_lexer": "ipython3",
      "version": "3.10.7"
    },
    "colab": {
      "provenance": []
    }
  },
  "nbformat": 4,
  "nbformat_minor": 5
}